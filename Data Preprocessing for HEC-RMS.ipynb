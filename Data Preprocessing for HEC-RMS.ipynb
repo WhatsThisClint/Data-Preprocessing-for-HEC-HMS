{
 "cells": [
  {
   "cell_type": "markdown",
   "id": "9d3a4584-649c-403b-a7e4-4c375b61c842",
   "metadata": {},
   "source": [
    "# Data Preprocessing for HEC-RMS Input\n",
    "\n",
    "This Jupyter notebook script is designed to preprocess a large dataset of TIFF files for use in the HEC-RMS (Hydrologic Engineering Center's River Analysis System) software.\n",
    "\n",
    "The script performs the following tasks:\n",
    "\n",
    "1. **Resampling TIFF files**: The script iterates through all TIFF files in the `input_folder` directory and resamples them to a desired pixel size (in this case, 0.0001). The resampled TIFF files are saved in the `output_folder` directory with a \"_resampled\" suffix.\n",
    "\n",
    "2. **Extracting data using a shapefile**: The script then iterates through the resampled TIFF files in the `output_folder` directory and extracts the data using a specified shapefile (`shapefile_path`). The extracted data is saved in the `extracted` folder with an \"_extracted\" suffix.\n",
    "\n",
    "3. **Converting TIFF to ASCII**: Finally, the script converts the extracted TIFF files in the `extracted` folder to the ASCII format and saves them in the `ascii` folder with a \".asc\" extension.\n"
   ]
  },
  {
   "cell_type": "markdown",
   "id": "8117d4a5-be84-4ec8-b365-120759d9b365",
   "metadata": {},
   "source": [
    "## Import necessary libraries"
   ]
  },
  {
   "cell_type": "code",
   "execution_count": null,
   "id": "a7a2960d-9c9e-4159-b572-189638767f2d",
   "metadata": {},
   "outputs": [],
   "source": [
    "import os\n",
    "from osgeo import gdal"
   ]
  },
  {
   "cell_type": "markdown",
   "id": "dbbcd96a-628f-47e1-9b5c-e8a69f4313d4",
   "metadata": {},
   "source": [
    "## Section 1: Resampling TIFF files\n",
    "\n",
    "- The script iterates over all TIFF files in the input_folder directory. For each TIFF file,\n",
    "- It resamples the data to a desired pixel size (in this case, 0.0001) using the resample_tiff function.\n",
    "- Saves the resampled file in the output_folder directory with a \"_resampled\" suffix."
   ]
  },
  {
   "cell_type": "code",
   "execution_count": null,
   "id": "48e8aeb4-f736-4314-85e5-a023d70bcc47",
   "metadata": {},
   "outputs": [],
   "source": [
    "# Define input and output folders, and the shapefile path\n",
    "input_folder = 'reshapefile'\n",
    "output_folder = 'output'\n",
    "shapefile_path = 'reshapefile/usb_cat.shp'\n",
    "\n",
    "# Create the output folder if it doesn't exist\n",
    "if not os.path.exists(output_folder):\n",
    "    os.makedirs(output_folder)\n",
    "\n",
    "# Function to resample the input TIFF file\n",
    "def resample_tiff(input_file, output_file, pixel_size):\n",
    "    # Define resampling options\n",
    "    resampling_options = gdal.WarpOptions(xRes=pixel_size, yRes=pixel_size, dstNodata=-999)\n",
    "    \n",
    "    # Perform resampling\n",
    "    gdal.Warp(srcDSOrSrcDSTab=input_file, destNameOrDestDS=output_file, options=resampling_options)\n",
    "\n",
    "# Iterate over all TIFF files in the input folder\n",
    "for filename in os.listdir(input_folder):\n",
    "    if filename.endswith('.tif'):\n",
    "        input_file_path = os.path.join(input_folder, filename)\n",
    "        \n",
    "        # Define the desired pixel size for resampling\n",
    "        desired_pixel_size = 0.0001\n",
    "        \n",
    "        # Define the output file path for the resampled data\n",
    "        output_file_path = os.path.join(output_folder, f\"{os.path.splitext(filename)[0]}_resampled.tif\")\n",
    "        \n",
    "        # Resample the TIFF file\n",
    "        resample_tiff(input_file_path, output_file_path, desired_pixel_size)\n",
    "\n",
    "print(\"Resampling completed.\")\n"
   ]
  },
  {
   "cell_type": "markdown",
   "id": "161458b7-2e6d-4be5-ba0c-2d45b8f1d903",
   "metadata": {},
   "source": [
    "## Section 2: Extracting data using a shapefile\n",
    "\n",
    "- The script iterates over all resampled TIFF files in the input_folder directory (which is now the output_folder from the previous step).\n",
    "- For each resampled TIFF file, it extracts the data using the shapefile specified by the shapefile_path variable.\n",
    "- The extracted data is saved in the output_folder directory with an \"_extracted\" suffix."
   ]
  },
  {
   "cell_type": "code",
   "execution_count": null,
   "id": "d09b9f47-9b09-4023-b6f1-27438a7adcab",
   "metadata": {},
   "outputs": [],
   "source": [
    "# Define input and output folders, and the shapefile path\n",
    "input_folder = 'output'\n",
    "output_folder = 'extracted'\n",
    "shapefile_path = 'reshapefile/usb_cat.shp'\n",
    "\n",
    "# Create the output folder if it doesn't exist\n",
    "if not os.path.exists(output_folder):\n",
    "    os.makedirs(output_folder)\n",
    "\n",
    "# Function to extract by mask using a shapefile\n",
    "def extract_by_mask(input_file, output_file, shapefile):\n",
    "    # Define extraction options with shapefile as mask\n",
    "    extraction_options = gdal.WarpOptions(cutlineDSName=shapefile, cropToCutline=True, dstNodata=-999)\n",
    "    \n",
    "    # Perform the extraction by mask\n",
    "    gdal.Warp(srcDSOrSrcDSTab=input_file, destNameOrDestDS=output_file, options=extraction_options)\n",
    "\n",
    "# Iterate over all resampled files in the output folder\n",
    "for filename in os.listdir(input_folder):\n",
    "    if filename.endswith('_resampled.tif'):\n",
    "        input_file_path = os.path.join(input_folder, filename)\n",
    "        \n",
    "        # Define the output file path for the extracted data\n",
    "        output_file_path = os.path.join(output_folder, f\"{os.path.splitext(filename)[0]}_extracted.tif\")\n",
    "        \n",
    "        # Extract data using the shapefile as a mask\n",
    "        extract_by_mask(input_file_path, output_file_path, shapefile_path)\n",
    "\n",
    "print(\"Extraction completed.\")\n",
    "\n"
   ]
  },
  {
   "cell_type": "markdown",
   "id": "d594823c-69ad-405e-918f-e2d15df115c2",
   "metadata": {},
   "source": [
    "## Section 3: Converting TIFF to ASCII\n",
    "\n",
    "- The script iterates over all extracted TIFF files in the input_folder directory (which is now the extracted folder).\n",
    "- For each TIFF file, it converts the data to the ASCII format and saves the resulting files in the output_folder directory with an \".asc\" extension."
   ]
  },
  {
   "cell_type": "code",
   "execution_count": null,
   "id": "5037287d-8048-4ec7-a4de-6997598877cd",
   "metadata": {},
   "outputs": [],
   "source": [
    "# Define input and output folders\n",
    "input_folder = 'extracted'\n",
    "output_folder = 'ascii'\n",
    "\n",
    "# Create the output folder if it doesn't exist\n",
    "if not os.path.exists(output_folder):\n",
    "    os.makedirs(output_folder)\n",
    "\n",
    "# Function to convert TIFF to ASCII\n",
    "def tiff_to_ascii(input_file, output_file):\n",
    "    # Define translation options\n",
    "    translate_options = gdal.TranslateOptions(format='AAIGrid')\n",
    "    \n",
    "    # Perform translation\n",
    "    gdal.Translate(destName=output_file, srcDS=input_file, options=translate_options)\n",
    "\n",
    "# Iterate over all files in the extracted folder\n",
    "for filename in os.listdir(input_folder):\n",
    "    if filename.endswith('.tif'):\n",
    "        input_file_path = os.path.join(input_folder, filename)\n",
    "        \n",
    "        # Define the output file path for the ASCII file\n",
    "        output_file_path = os.path.join(output_folder, f\"{os.path.splitext(filename)[0]}.asc\")\n",
    "        \n",
    "        # Convert TIFF to ASCII\n",
    "        tiff_to_ascii(input_file_path, output_file_path)\n",
    "\n",
    "print(\"Conversion to ASCII completed.\")"
   ]
  }
 ],
 "metadata": {
  "kernelspec": {
   "display_name": "Python 3 (ipykernel)",
   "language": "python",
   "name": "python3"
  },
  "language_info": {
   "codemirror_mode": {
    "name": "ipython",
    "version": 3
   },
   "file_extension": ".py",
   "mimetype": "text/x-python",
   "name": "python",
   "nbconvert_exporter": "python",
   "pygments_lexer": "ipython3",
   "version": "3.11.8"
  }
 },
 "nbformat": 4,
 "nbformat_minor": 5
}
